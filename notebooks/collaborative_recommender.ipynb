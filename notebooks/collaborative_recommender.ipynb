{
  "cells": [
    {
      "cell_type": "markdown",
      "metadata": {},
      "source": [
        "## Collaborative Recommendation System using VAECF (Cornac)"
      ]
    },
    {
      "cell_type": "markdown",
      "metadata": {},
      "source": [
        "## 1. Objective  \n",
        "\n",
        "The goal of this notebook is to build a **Collaborative Filtering Recommendation System** using the **Variational Autoencoder for Collaborative Filtering (VAECF)** model provided by the Cornac library.  \n",
        "\n",
        "Unlike sequential or content-based recommenders, collaborative filtering relies purely on **user–item interaction patterns** (views and purchases). This allows the system to uncover latent user and item representations that drive recommendations.  "
      ]
    },
    {
      "cell_type": "markdown",
      "metadata": {},
      "source": [
        "### Imports and Setups"
      ]
    },
    {
      "cell_type": "code",
      "execution_count": null,
      "metadata": {},
      "outputs": [],
      "source": [
        "%pip install scipy\n",
        "%pip install cornac\n",
        "%pip install pandas\n",
        "%pip install numpy\n",
        "%pip install tensorflow\n",
        "%pip install matplotlib\n",
        "%pip install scikit-learn\n",
        "%pip install torch"
      ]
    },
    {
      "cell_type": "code",
      "execution_count": null,
      "metadata": {
        "id": "xhiYKJcxHpM3"
      },
      "outputs": [],
      "source": [
        "import warnings\n",
        "warnings.simplefilter(\"ignore\")"
      ]
    },
    {
      "cell_type": "code",
      "execution_count": null,
      "metadata": {},
      "outputs": [],
      "source": [
        "from tensorflow.python.client import device_lib\n",
        "print(device_lib.list_local_devices())\n",
        "print (\"Number of GPUS present:\",len(tf.config.list_physical_devices('GPU')))"
      ]
    },
    {
      "cell_type": "code",
      "execution_count": null,
      "metadata": {},
      "outputs": [],
      "source": [
        "from sklearn.preprocessing import MinMaxScaler, LabelEncoder\n",
        "import pandas as pd\n",
        "from cornac.models.vaecf import VAECF\n",
        "from cornac.eval_methods import RatioSplit\n",
        "from cornac.metrics import Recall, NDCG\n",
        "from cornac.data import Dataset\n",
        "import torch\n"
      ]
    },
    {
      "cell_type": "markdown",
      "metadata": {},
      "source": [
        "## 3. Data Loading  "
      ]
    },
    {
      "cell_type": "code",
      "execution_count": null,
      "metadata": {
        "id": "9AVEf3ykH9i1"
      },
      "outputs": [],
      "source": [
        "data1 = pd.read_csv('/content/sample_data/processed_data.csv')\n",
        "data2 = pd.read_csv('/content/sample_data/processed_data1.csv')\n",
        "\n",
        "data = pd.concat([data1, data2], ignore_index=True)"
      ]
    },
    {
      "cell_type": "code",
      "execution_count": null,
      "metadata": {
        "colab": {
          "base_uri": "https://localhost:8080/",
          "height": 697
        },
        "id": "jv231o8eplgE",
        "outputId": "bae58362-4a6b-4566-887a-a064347a498d"
      },
      "outputs": [],
      "source": [
        "data.head(20)"
      ]
    },
    {
      "cell_type": "markdown",
      "metadata": {},
      "source": [
        "## 4. Event Weighting  \n",
        "\n",
        "To capture **interaction strength**, we assign weights:  \n",
        "\n",
        "- `view` = **1.0**  \n",
        "- `purchase` = **3.0**  \n",
        "\n",
        "These are normalized to the range [0, 1]. Purchases therefore contribute more strongly to training.\n"
      ]
    },
    {
      "cell_type": "code",
      "execution_count": null,
      "metadata": {
        "id": "VcQTekkJxAF9"
      },
      "outputs": [],
      "source": [
        "\n",
        "\n",
        "# Map weights before encoding\n",
        "event_mapping = {\n",
        "    \"view\": 1.0,\n",
        "    \"purchase\": 3.0\n",
        "}\n",
        "data[\"event_weight\"] = data[\"event_type\"].map(event_mapping).fillna(0.0)\n",
        "data[\"event_weight\"] = data[\"event_weight\"] / data[\"event_weight\"].max()\n",
        "\n",
        "# Now do label encoding\n"
      ]
    },
    {
      "cell_type": "code",
      "execution_count": null,
      "metadata": {
        "colab": {
          "base_uri": "https://localhost:8080/"
        },
        "id": "ewUFyHpxxIhz",
        "outputId": "4ea79dec-8d5c-43d5-b3b0-d7ea5a4c03b6"
      },
      "outputs": [],
      "source": [
        "data['event_type'].head().unique()"
      ]
    },
    {
      "cell_type": "markdown",
      "metadata": {},
      "source": [
        "## 5. Encoding Users and Items  \n",
        "\n",
        "We convert `user_id` and `product_id` into integer encodings for compatibility with Cornac.\n"
      ]
    },
    {
      "cell_type": "code",
      "execution_count": null,
      "metadata": {},
      "outputs": [],
      "source": [
        "event_encode = LabelEncoder()\n",
        "data['event_type'] = event_encode.fit_transform(data['event_type'])\n",
        "user_encoder = LabelEncoder()\n",
        "item_encoder = LabelEncoder()\n",
        "data['user'] = user_encoder.fit_transform(data['user_id'])\n",
        "data['item'] = item_encoder.fit_transform(data['product_id'])\n"
      ]
    },
    {
      "cell_type": "markdown",
      "metadata": {},
      "source": [
        "## 6. Train/Test Split  \n",
        "\n",
        "We use Cornac’s `RatioSplit` to divide the dataset into **80% training** and **20% test**.  \n",
        "\n",
        "- `rating_threshold=0.5` ensures only interactions above this weight are considered as positive feedback.\n"
      ]
    },
    {
      "cell_type": "code",
      "execution_count": null,
      "metadata": {},
      "outputs": [],
      "source": [
        "interactions = list(zip(data['user'], data['item'], data['event_weight']))\n",
        "\n",
        "\n",
        "\n",
        "# Split train/test\n",
        "eval_method = RatioSplit(\n",
        "    data=interactions,\n",
        "    test_size=0.2,\n",
        "    rating_threshold=0.5,  # this part is for implicit feedback\n",
        "    exclude_unknowns=True,\n",
        "    verbose=True\n",
        ")\n",
        "\n"
      ]
    },
    {
      "cell_type": "markdown",
      "metadata": {},
      "source": [
        "## 7. VAECF Model Training  \n",
        "\n",
        "We train a **Variational Autoencoder for Collaborative Filtering (VAECF)** model with the following hyperparameters:  \n",
        "Training runs on GPU if available.\n"
      ]
    },
    {
      "cell_type": "code",
      "execution_count": null,
      "metadata": {},
      "outputs": [],
      "source": [
        "# VAE-CF model\n",
        "model = VAECF(\n",
        "    k=64,  # Latent factors\n",
        "    autoencoder_structure=[200],\n",
        "    n_epochs=10,\n",
        "    batch_size=512,\n",
        "    learning_rate=1e-4,\n",
        "    use_gpu=True,  # set to false if cpu is used \n",
        "    verbose=True\n",
        ")\n",
        "\n",
        "\n",
        "\n",
        "# Train\n",
        "history= model.fit(eval_method.train_set)\n",
        "model.save(\"collab_recommender.keras\")"
      ]
    },
    {
      "cell_type": "markdown",
      "metadata": {},
      "source": [
        "### 8. Save the collaborative Recommender system"
      ]
    },
    {
      "cell_type": "code",
      "execution_count": null,
      "metadata": {
        "id": "FfEag9vgz0Ka"
      },
      "outputs": [],
      "source": [
        "vae.save(\"Collaborative_Recommender_Model\")\n"
      ]
    },
    {
      "cell_type": "markdown",
      "metadata": {},
      "source": [
        "### 9. Model loading "
      ]
    },
    {
      "cell_type": "code",
      "execution_count": null,
      "metadata": {},
      "outputs": [],
      "source": [
        "\n",
        "# Backup the original torch.load\n",
        "original_torch_load = torch.load\n",
        "\n",
        "# Define a patched version of torch.load that always forces CPU\n",
        "def torch_load_cpu(*args, **kwargs):\n",
        "    kwargs['map_location'] = torch.device('cpu')\n",
        "    kwargs['weights_only'] = False  # Needed for PyTorch 2.6+\n",
        "    return original_torch_load(*args, **kwargs)\n",
        "\n",
        "# Patch torch.load\n",
        "torch.load = torch_load_cpu\n",
        "\n",
        "# Now load the Cornac model (this uses our patched torch.load)\n",
        "model = VAECF.load(\"collab_recommender.keras/VAECF\")\n",
        "\n",
        "# Restore original torch.load after loading\n",
        "torch.load = original_torch_load\n",
        "\n"
      ]
    },
    {
      "cell_type": "markdown",
      "metadata": {},
      "source": [
        "### 10. EDA techniques before we make use of the model "
      ]
    },
    {
      "cell_type": "code",
      "execution_count": null,
      "metadata": {},
      "outputs": [],
      "source": [
        "data = pd.read_csv(\"processed_data1.csv\")"
      ]
    },
    {
      "cell_type": "code",
      "execution_count": null,
      "metadata": {},
      "outputs": [],
      "source": [
        "data.head()"
      ]
    },
    {
      "cell_type": "markdown",
      "metadata": {},
      "source": [
        "### 11. Generating Recommendations  \n",
        "\n",
        "We define a function `recommend_for_users()` that:  \n",
        "- Scores all unseen items for a given user.  \n",
        "- Returns **Top-N recommendations**.  \n",
        "- Handles **cold-start users** by falling back to default items.\n"
      ]
    },
    {
      "cell_type": "code",
      "execution_count": null,
      "metadata": {},
      "outputs": [],
      "source": [
        "def recommend_for_users(model, eval_method, user_ids, top_n=10, fallback_items=None):\n",
        "    train_set = eval_method.train_set\n",
        "    uid_map = train_set.uid_map\n",
        "    iid_map = train_set.iid_map\n",
        "    iid_map_inv = {v: k for k, v in iid_map.items()}\n",
        "\n",
        "    results = {}\n",
        "\n",
        "    for user_id_str in user_ids:\n",
        "        print(f\"\\n User: {user_id_str}\")\n",
        "\n",
        "        if user_id_str not in uid_map:\n",
        "            print(\"Cold-start user (not in training data).\")\n",
        "\n",
        "            if fallback_items:\n",
        "                fallback_recs = fallback_items[:top_n]\n",
        "                print(f\"Fallback recommendations: {fallback_recs}\")\n",
        "                results[user_id_str] = [(item_id, None) for item_id in fallback_recs]\n",
        "            else:\n",
        "                print(\"No fallback available.\")\n",
        "                results[user_id_str] = []\n",
        "            continue\n",
        "\n",
        "        user_id = uid_map[user_id_str]\n",
        "        n_items = train_set.num_items\n",
        "\n",
        "        scores = [model.score(user_id, item_id) for item_id in range(n_items)]\n",
        "\n",
        "        user_interactions = train_set.matrix[user_id]\n",
        "        seen_items = set(user_interactions.indices)\n",
        "\n",
        "        unseen_scores = [(item_id, score) for item_id, score in enumerate(scores) if item_id not in seen_items]\n",
        "        top_items = sorted(unseen_scores, key=lambda x: x[1], reverse=True)[:top_n]\n",
        "        rec_items = [(iid_map_inv[item_id], round(score, 4)) for item_id, score in top_items]\n",
        "\n",
        "        for item_id, score in rec_items:\n",
        "            print(f\"🛍️ Item ID: {item_id} | Score: {score}\")\n",
        "\n",
        "        results[user_id_str] = rec_items\n",
        "\n",
        "    return results\n",
        "\n",
        "\n",
        "\n",
        "\n",
        "\n",
        "\n"
      ]
    },
    {
      "cell_type": "code",
      "execution_count": null,
      "metadata": {},
      "outputs": [],
      "source": [
        "user_list = ['555475417','1005115']"
      ]
    },
    {
      "cell_type": "code",
      "execution_count": null,
      "metadata": {},
      "outputs": [],
      "source": [
        "model.device = torch.device('cpu')\n"
      ]
    },
    {
      "cell_type": "markdown",
      "metadata": {},
      "source": [
        "## 12. Example Recommendation  \n",
        "\n",
        "We now test the recommender on a sample user (`555475417`).\n"
      ]
    },
    {
      "cell_type": "code",
      "execution_count": null,
      "metadata": {},
      "outputs": [],
      "source": [
        "recommendations = recommend_for_users(\n",
        "    model=model, \n",
        "    eval_method=eval_method, \n",
        "    user_ids=['555475417'], \n",
        "    top_n=5,\n",
        "   \n",
        ")\n"
      ]
    },
    {
      "cell_type": "markdown",
      "metadata": {},
      "source": [
        "## 13. Overall Conclusion  \n",
        "\n",
        "- The **collaborative VAECF model** successfully captured user–item interaction patterns.  \n",
        "- Unlike content-based methods, it does not rely on product metadata, but instead learns from **implicit feedback signals** (views, purchases).  \n",
        "- The system complements the **Sequential** and **Content-Based Recommenders**, creating a robust **hybrid recommendation pipeline**.  \n"
      ]
    }
  ],
  "metadata": {
    "accelerator": "GPU",
    "colab": {
      "gpuType": "T4",
      "provenance": []
    },
    "kernelspec": {
      "display_name": "Python 3",
      "name": "python3"
    },
    "language_info": {
      "codemirror_mode": {
        "name": "ipython",
        "version": 3
      },
      "file_extension": ".py",
      "mimetype": "text/x-python",
      "name": "python",
      "nbconvert_exporter": "python",
      "pygments_lexer": "ipython3",
      "version": "3.10.0"
    },
    "widgets": {
      "application/vnd.jupyter.widget-state+json": {
        "13e1902f6bf045b2930990bb6b410ad9": {
          "model_module": "@jupyter-widgets/controls",
          "model_module_version": "1.5.0",
          "model_name": "HBoxModel",
          "state": {
            "_dom_classes": [],
            "_model_module": "@jupyter-widgets/controls",
            "_model_module_version": "1.5.0",
            "_model_name": "HBoxModel",
            "_view_count": null,
            "_view_module": "@jupyter-widgets/controls",
            "_view_module_version": "1.5.0",
            "_view_name": "HBoxView",
            "box_style": "",
            "children": [
              "IPY_MODEL_520bc55bd54846b1970acc7a74a2e1ec",
              "IPY_MODEL_1afa1ab099544a1e86cb8074f3353310",
              "IPY_MODEL_4b10b15aef3b4da2b2dd4bdc3b1dc26d"
            ],
            "layout": "IPY_MODEL_cf078c575adf468b8b3696a229c6f59f"
          }
        },
        "1afa1ab099544a1e86cb8074f3353310": {
          "model_module": "@jupyter-widgets/controls",
          "model_module_version": "1.5.0",
          "model_name": "FloatProgressModel",
          "state": {
            "_dom_classes": [],
            "_model_module": "@jupyter-widgets/controls",
            "_model_module_version": "1.5.0",
            "_model_name": "FloatProgressModel",
            "_view_count": null,
            "_view_module": "@jupyter-widgets/controls",
            "_view_module_version": "1.5.0",
            "_view_name": "ProgressView",
            "bar_style": "success",
            "description": "",
            "description_tooltip": null,
            "layout": "IPY_MODEL_d25c0056d4dc40e6b639fcbf0e70da81",
            "max": 10,
            "min": 0,
            "orientation": "horizontal",
            "style": "IPY_MODEL_d0dee78a9eb14f8c9242680ecb3049c5",
            "value": 10
          }
        },
        "4b10b15aef3b4da2b2dd4bdc3b1dc26d": {
          "model_module": "@jupyter-widgets/controls",
          "model_module_version": "1.5.0",
          "model_name": "HTMLModel",
          "state": {
            "_dom_classes": [],
            "_model_module": "@jupyter-widgets/controls",
            "_model_module_version": "1.5.0",
            "_model_name": "HTMLModel",
            "_view_count": null,
            "_view_module": "@jupyter-widgets/controls",
            "_view_module_version": "1.5.0",
            "_view_name": "HTMLView",
            "description": "",
            "description_tooltip": null,
            "layout": "IPY_MODEL_a9cdeb23eec44d5f8be7d60499779366",
            "placeholder": "​",
            "style": "IPY_MODEL_dbec8e0ec436493697fc994fd051c942",
            "value": " 10/10 [40:05&lt;00:00, 242.09s/it, loss=0.0336]"
          }
        },
        "520bc55bd54846b1970acc7a74a2e1ec": {
          "model_module": "@jupyter-widgets/controls",
          "model_module_version": "1.5.0",
          "model_name": "HTMLModel",
          "state": {
            "_dom_classes": [],
            "_model_module": "@jupyter-widgets/controls",
            "_model_module_version": "1.5.0",
            "_model_name": "HTMLModel",
            "_view_count": null,
            "_view_module": "@jupyter-widgets/controls",
            "_view_module_version": "1.5.0",
            "_view_name": "HTMLView",
            "description": "",
            "description_tooltip": null,
            "layout": "IPY_MODEL_adf26c1c085b473bbe878352aaf5f9aa",
            "placeholder": "​",
            "style": "IPY_MODEL_a172f7d7255e468c9c76ec430fbfd837",
            "value": "100%"
          }
        },
        "a172f7d7255e468c9c76ec430fbfd837": {
          "model_module": "@jupyter-widgets/controls",
          "model_module_version": "1.5.0",
          "model_name": "DescriptionStyleModel",
          "state": {
            "_model_module": "@jupyter-widgets/controls",
            "_model_module_version": "1.5.0",
            "_model_name": "DescriptionStyleModel",
            "_view_count": null,
            "_view_module": "@jupyter-widgets/base",
            "_view_module_version": "1.2.0",
            "_view_name": "StyleView",
            "description_width": ""
          }
        },
        "a9cdeb23eec44d5f8be7d60499779366": {
          "model_module": "@jupyter-widgets/base",
          "model_module_version": "1.2.0",
          "model_name": "LayoutModel",
          "state": {
            "_model_module": "@jupyter-widgets/base",
            "_model_module_version": "1.2.0",
            "_model_name": "LayoutModel",
            "_view_count": null,
            "_view_module": "@jupyter-widgets/base",
            "_view_module_version": "1.2.0",
            "_view_name": "LayoutView",
            "align_content": null,
            "align_items": null,
            "align_self": null,
            "border": null,
            "bottom": null,
            "display": null,
            "flex": null,
            "flex_flow": null,
            "grid_area": null,
            "grid_auto_columns": null,
            "grid_auto_flow": null,
            "grid_auto_rows": null,
            "grid_column": null,
            "grid_gap": null,
            "grid_row": null,
            "grid_template_areas": null,
            "grid_template_columns": null,
            "grid_template_rows": null,
            "height": null,
            "justify_content": null,
            "justify_items": null,
            "left": null,
            "margin": null,
            "max_height": null,
            "max_width": null,
            "min_height": null,
            "min_width": null,
            "object_fit": null,
            "object_position": null,
            "order": null,
            "overflow": null,
            "overflow_x": null,
            "overflow_y": null,
            "padding": null,
            "right": null,
            "top": null,
            "visibility": null,
            "width": null
          }
        },
        "adf26c1c085b473bbe878352aaf5f9aa": {
          "model_module": "@jupyter-widgets/base",
          "model_module_version": "1.2.0",
          "model_name": "LayoutModel",
          "state": {
            "_model_module": "@jupyter-widgets/base",
            "_model_module_version": "1.2.0",
            "_model_name": "LayoutModel",
            "_view_count": null,
            "_view_module": "@jupyter-widgets/base",
            "_view_module_version": "1.2.0",
            "_view_name": "LayoutView",
            "align_content": null,
            "align_items": null,
            "align_self": null,
            "border": null,
            "bottom": null,
            "display": null,
            "flex": null,
            "flex_flow": null,
            "grid_area": null,
            "grid_auto_columns": null,
            "grid_auto_flow": null,
            "grid_auto_rows": null,
            "grid_column": null,
            "grid_gap": null,
            "grid_row": null,
            "grid_template_areas": null,
            "grid_template_columns": null,
            "grid_template_rows": null,
            "height": null,
            "justify_content": null,
            "justify_items": null,
            "left": null,
            "margin": null,
            "max_height": null,
            "max_width": null,
            "min_height": null,
            "min_width": null,
            "object_fit": null,
            "object_position": null,
            "order": null,
            "overflow": null,
            "overflow_x": null,
            "overflow_y": null,
            "padding": null,
            "right": null,
            "top": null,
            "visibility": null,
            "width": null
          }
        },
        "cf078c575adf468b8b3696a229c6f59f": {
          "model_module": "@jupyter-widgets/base",
          "model_module_version": "1.2.0",
          "model_name": "LayoutModel",
          "state": {
            "_model_module": "@jupyter-widgets/base",
            "_model_module_version": "1.2.0",
            "_model_name": "LayoutModel",
            "_view_count": null,
            "_view_module": "@jupyter-widgets/base",
            "_view_module_version": "1.2.0",
            "_view_name": "LayoutView",
            "align_content": null,
            "align_items": null,
            "align_self": null,
            "border": null,
            "bottom": null,
            "display": null,
            "flex": null,
            "flex_flow": null,
            "grid_area": null,
            "grid_auto_columns": null,
            "grid_auto_flow": null,
            "grid_auto_rows": null,
            "grid_column": null,
            "grid_gap": null,
            "grid_row": null,
            "grid_template_areas": null,
            "grid_template_columns": null,
            "grid_template_rows": null,
            "height": null,
            "justify_content": null,
            "justify_items": null,
            "left": null,
            "margin": null,
            "max_height": null,
            "max_width": null,
            "min_height": null,
            "min_width": null,
            "object_fit": null,
            "object_position": null,
            "order": null,
            "overflow": null,
            "overflow_x": null,
            "overflow_y": null,
            "padding": null,
            "right": null,
            "top": null,
            "visibility": null,
            "width": null
          }
        },
        "d0dee78a9eb14f8c9242680ecb3049c5": {
          "model_module": "@jupyter-widgets/controls",
          "model_module_version": "1.5.0",
          "model_name": "ProgressStyleModel",
          "state": {
            "_model_module": "@jupyter-widgets/controls",
            "_model_module_version": "1.5.0",
            "_model_name": "ProgressStyleModel",
            "_view_count": null,
            "_view_module": "@jupyter-widgets/base",
            "_view_module_version": "1.2.0",
            "_view_name": "StyleView",
            "bar_color": null,
            "description_width": ""
          }
        },
        "d25c0056d4dc40e6b639fcbf0e70da81": {
          "model_module": "@jupyter-widgets/base",
          "model_module_version": "1.2.0",
          "model_name": "LayoutModel",
          "state": {
            "_model_module": "@jupyter-widgets/base",
            "_model_module_version": "1.2.0",
            "_model_name": "LayoutModel",
            "_view_count": null,
            "_view_module": "@jupyter-widgets/base",
            "_view_module_version": "1.2.0",
            "_view_name": "LayoutView",
            "align_content": null,
            "align_items": null,
            "align_self": null,
            "border": null,
            "bottom": null,
            "display": null,
            "flex": null,
            "flex_flow": null,
            "grid_area": null,
            "grid_auto_columns": null,
            "grid_auto_flow": null,
            "grid_auto_rows": null,
            "grid_column": null,
            "grid_gap": null,
            "grid_row": null,
            "grid_template_areas": null,
            "grid_template_columns": null,
            "grid_template_rows": null,
            "height": null,
            "justify_content": null,
            "justify_items": null,
            "left": null,
            "margin": null,
            "max_height": null,
            "max_width": null,
            "min_height": null,
            "min_width": null,
            "object_fit": null,
            "object_position": null,
            "order": null,
            "overflow": null,
            "overflow_x": null,
            "overflow_y": null,
            "padding": null,
            "right": null,
            "top": null,
            "visibility": null,
            "width": null
          }
        },
        "dbec8e0ec436493697fc994fd051c942": {
          "model_module": "@jupyter-widgets/controls",
          "model_module_version": "1.5.0",
          "model_name": "DescriptionStyleModel",
          "state": {
            "_model_module": "@jupyter-widgets/controls",
            "_model_module_version": "1.5.0",
            "_model_name": "DescriptionStyleModel",
            "_view_count": null,
            "_view_module": "@jupyter-widgets/base",
            "_view_module_version": "1.2.0",
            "_view_name": "StyleView",
            "description_width": ""
          }
        }
      }
    }
  },
  "nbformat": 4,
  "nbformat_minor": 0
}
